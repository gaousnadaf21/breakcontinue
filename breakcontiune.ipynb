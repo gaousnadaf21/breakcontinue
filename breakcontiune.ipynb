{
 "cells": [
  {
   "cell_type": "markdown",
   "id": "c9202749-5c34-42d8-b6d5-d64edb0d02f4",
   "metadata": {},
   "source": [
    "#Write a program to print numbers from 1 to 10 but stop if the number is 5"
   ]
  },
  {
   "cell_type": "code",
   "execution_count": 1,
   "id": "05f67bde-8c63-44df-89ab-e00ff5625c43",
   "metadata": {},
   "outputs": [
    {
     "name": "stdout",
     "output_type": "stream",
     "text": [
      "1\n",
      "2\n",
      "3\n",
      "4\n"
     ]
    }
   ],
   "source": [
    "for i in range(1, 11):\n",
    "    if i == 5:\n",
    "        break\n",
    "    print(i)\n"
   ]
  },
  {
   "cell_type": "markdown",
   "id": "f75da1f2-a1cf-43c6-9e90-8c7f09d2f611",
   "metadata": {},
   "source": [
    "#Write a program to iterate through a list and stop when encountering a specific element"
   ]
  },
  {
   "cell_type": "code",
   "execution_count": 3,
   "id": "8b783898-93b3-48b7-b024-c0fcd732f4e9",
   "metadata": {},
   "outputs": [
    {
     "name": "stdout",
     "output_type": "stream",
     "text": [
      "1\n",
      "2\n",
      "3\n",
      "4\n",
      "5\n",
      "6\n"
     ]
    }
   ],
   "source": [
    "def stop_at_element(lst, stop_element):\n",
    "    for element in lst:\n",
    "        if element == stop_element:\n",
    "            break\n",
    "        print(element)\n",
    "\n",
    "my_list = [1, 2, 3, 4, 5, 6, 7, 8, 9, 10]\n",
    "stop_element = 7\n",
    "stop_at_element(my_list, stop_element)\n"
   ]
  },
  {
   "cell_type": "markdown",
   "id": "b70b0569-b74f-4632-bb98-4d3b10d61a00",
   "metadata": {},
   "source": [
    "#Write a program to skip printing even numbers from  1 to 10"
   ]
  },
  {
   "cell_type": "code",
   "execution_count": 4,
   "id": "8b62e87f-7c3d-461f-b9bd-a194fead64fd",
   "metadata": {},
   "outputs": [
    {
     "name": "stdout",
     "output_type": "stream",
     "text": [
      "1\n",
      "3\n",
      "5\n",
      "7\n",
      "9\n"
     ]
    }
   ],
   "source": [
    "for i in range(1, 11):\n",
    "    if i % 2 == 0:\n",
    "        continue\n",
    "    print(i)\n"
   ]
  },
  {
   "cell_type": "markdown",
   "id": "bfdb9522-d063-43a1-9d55-69e03610e55a",
   "metadata": {},
   "source": [
    "#Write a program to print numbers from 0 to 9 using range()"
   ]
  },
  {
   "cell_type": "code",
   "execution_count": 5,
   "id": "6e56b311-090e-41e1-9fa9-d9a6bcd94476",
   "metadata": {},
   "outputs": [
    {
     "name": "stdout",
     "output_type": "stream",
     "text": [
      "0\n",
      "1\n",
      "2\n",
      "3\n",
      "4\n",
      "5\n",
      "6\n",
      "7\n",
      "8\n",
      "9\n"
     ]
    }
   ],
   "source": [
    "for i in range(10):\n",
    "    print(i)\n"
   ]
  },
  {
   "cell_type": "markdown",
   "id": "f520ba88-a0d1-4b60-8e41-7f9d1cf84463",
   "metadata": {},
   "source": [
    "#Write a program to skip printing even numbers using a while loop"
   ]
  },
  {
   "cell_type": "code",
   "execution_count": null,
   "id": "0fa15557-18cb-4d44-b64a-da6438a57d06",
   "metadata": {},
   "outputs": [],
   "source": []
  }
 ],
 "metadata": {
  "kernelspec": {
   "display_name": "Python 3 (ipykernel)",
   "language": "python",
   "name": "python3"
  },
  "language_info": {
   "codemirror_mode": {
    "name": "ipython",
    "version": 3
   },
   "file_extension": ".py",
   "mimetype": "text/x-python",
   "name": "python",
   "nbconvert_exporter": "python",
   "pygments_lexer": "ipython3",
   "version": "3.10.8"
  }
 },
 "nbformat": 4,
 "nbformat_minor": 5
}
